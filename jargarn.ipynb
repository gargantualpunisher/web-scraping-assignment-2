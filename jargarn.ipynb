{
 "cells": [
  {
   "cell_type": "code",
   "execution_count": 1,
   "id": "a7eb4061",
   "metadata": {},
   "outputs": [],
   "source": [
    "import selenium\n",
    "import pandas as pd\n",
    "from selenium import webdriver\n",
    "import warnings\n",
    "warnings.filterwarnings('ignore')\n",
    "from selenium.common.exceptions import StaleElementReferenceException, NoSuchElementException\n",
    "from selenium.webdriver.common.by import By\n",
    "import time\n",
    "from selenium.webdriver.chrome.service import Service"
   ]
  },
  {
   "cell_type": "code",
   "execution_count": null,
   "id": "0c0fb1e6",
   "metadata": {},
   "outputs": [],
   "source": []
  },
  {
   "cell_type": "code",
   "execution_count": 2,
   "id": "a75ba24c",
   "metadata": {},
   "outputs": [],
   "source": [
    "driver = webdriver.Chrome(r\"C:\\Users\\Dell\\Videos\\chromedriver_win32\\chromedriver.exe\")"
   ]
  },
  {
   "cell_type": "code",
   "execution_count": 3,
   "id": "e326c302",
   "metadata": {},
   "outputs": [],
   "source": [
    "driver.get('https://www.jagranjosh.com/')"
   ]
  },
  {
   "cell_type": "code",
   "execution_count": 4,
   "id": "f50918f8",
   "metadata": {},
   "outputs": [],
   "source": [
    "# select GK\n",
    "\n",
    "click_gk = driver.find_element(By.XPATH, \"/html/body/div/div[1]/div/div[1]/div/div[6]/div/div[1]/header/div[3]/ul/li[9]/a\")\n",
    "click_gk.click()"
   ]
  },
  {
   "cell_type": "code",
   "execution_count": 6,
   "id": "d18af0a4",
   "metadata": {},
   "outputs": [],
   "source": [
    "# select List\n",
    "\n",
    "click_list = driver.find_element(By.XPATH, \"/html/body/div/div/div/div[2]/div/div[10]/div/div/ul/li[2]/a\")\n",
    "click_list.click()"
   ]
  },
  {
   "cell_type": "code",
   "execution_count": 16,
   "id": "af871297",
   "metadata": {},
   "outputs": [
    {
     "data": {
      "text/plain": [
       "['Jawahar Lal Nehru']"
      ]
     },
     "execution_count": 16,
     "metadata": {},
     "output_type": "execute_result"
    }
   ],
   "source": [
    "# List\n",
    "List = []\n",
    "list = driver.find_elements(By.XPATH, '/html/body/div[1]/div[2]/div/div[2]/div/div[1]/div/div/div/div[4]/span/div[2]/table/tbody/tr[2]/td[2]/p/strong/a')\n",
    "\n",
    "for i in list:\n",
    "    i = i.text\n",
    "    List.append(i)\n",
    "List"
   ]
  },
  {
   "cell_type": "code",
   "execution_count": null,
   "id": "a5fa9440",
   "metadata": {},
   "outputs": [],
   "source": [
    "List = []\n",
    "list = driver.find_elements(By.XPATH, '/html/body/div[1]/div[2]/div/div[2]/div/div[1]/div/div/div/div[4]/span/div[2]/table/tbody/tr[2]/td[2]/p/strong/a')\n",
    "\n",
    "for i in list:\n",
    "    i = i.text\n",
    "    List.append(i)\n",
    "List"
   ]
  }
 ],
 "metadata": {
  "kernelspec": {
   "display_name": "Python 3 (ipykernel)",
   "language": "python",
   "name": "python3"
  },
  "language_info": {
   "codemirror_mode": {
    "name": "ipython",
    "version": 3
   },
   "file_extension": ".py",
   "mimetype": "text/x-python",
   "name": "python",
   "nbconvert_exporter": "python",
   "pygments_lexer": "ipython3",
   "version": "3.9.13"
  }
 },
 "nbformat": 4,
 "nbformat_minor": 5
}
