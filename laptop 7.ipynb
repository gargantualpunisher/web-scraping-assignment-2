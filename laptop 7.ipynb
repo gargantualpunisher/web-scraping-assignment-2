{
 "cells": [
  {
   "cell_type": "code",
   "execution_count": null,
   "id": "57265c6a",
   "metadata": {},
   "outputs": [],
   "source": []
  },
  {
   "cell_type": "code",
   "execution_count": 1,
   "id": "0e1c4f25",
   "metadata": {},
   "outputs": [],
   "source": [
    "import selenium\n",
    "import pandas as pd\n",
    "from selenium import webdriver\n",
    "import warnings\n",
    "warnings.filterwarnings('ignore')\n",
    "from selenium.common.exceptions import StaleElementReferenceException, NoSuchElementException\n",
    "from selenium.webdriver.common.by import By\n",
    "import time\n",
    "from selenium.webdriver.chrome.service import Service"
   ]
  },
  {
   "cell_type": "code",
   "execution_count": 2,
   "id": "2cc7a68a",
   "metadata": {},
   "outputs": [],
   "source": [
    "driver = webdriver.Chrome(r\"C:\\Users\\Dell\\Videos\\chromedriver_win32\\chromedriver.exe\")\n",
    "\n"
   ]
  },
  {
   "cell_type": "code",
   "execution_count": 3,
   "id": "73c2714e",
   "metadata": {},
   "outputs": [],
   "source": [
    "driver.get('https://www.amazon.in/')"
   ]
  },
  {
   "cell_type": "code",
   "execution_count": null,
   "id": "16fb781b",
   "metadata": {},
   "outputs": [],
   "source": []
  },
  {
   "cell_type": "code",
   "execution_count": 4,
   "id": "55624b07",
   "metadata": {},
   "outputs": [],
   "source": [
    "# input\n",
    "\n",
    "\n",
    "\n",
    "title = driver.find_element(By.ID, 'twotabsearchtextbox')\n",
    "title.send_keys('laptops')"
   ]
  },
  {
   "cell_type": "code",
   "execution_count": 6,
   "id": "c205e312",
   "metadata": {},
   "outputs": [],
   "source": [
    "# submit\n",
    "\n",
    "sub = driver.find_element(By.ID, 'nav-search-submit-button')\n",
    "sub.click()"
   ]
  },
  {
   "cell_type": "code",
   "execution_count": 7,
   "id": "1a115dbe",
   "metadata": {},
   "outputs": [
    {
     "data": {
      "text/plain": [
       "['HP Chromebook 11a, MediaTek MT8183 Processor 11.6 inch(29.5 cm) Thin and Light Touchscreen Laptop (4 GB RAM/64 GB eMMC/ Chrome OS /Fast Charge/Google Assistant/Indigo Blue/1.07Kg), na0002MU, 1.07Kg',\n",
       " 'Lenovo IdeaPad Slim 3 Intel Core i3 12th Gen 15.6\" (39.62cm) FHD Thin & Light Laptop (8GB/512GB SSD/Windows 11/Office 2021/2Yr Warranty/3months Game Pass/Arctic Grey/1.63Kg), 82RK006DIN',\n",
       " 'HP 255 G8 Business Laptop with AMD Athlon Silver 3050U APU/ 8GB Ram/ 1TB HDD/ Windows 11/AMD Radeon Vega 8 Mobile Graphics/39.6 cm HD (1366 x 768), SVA , Anti-Glare WLED/Black/1 Year Onsite Warranty',\n",
       " 'HP 15s, AMD Athlon Silver 3050U 8GB RAM/512GB SSD 15.6-inches/39.6 cm HD, Micro-Edge Display/Windows 11/AMD Radeon Graphics/Dual Speakers/MSO/Fast Charge/1.69 Kg, 15s-eq1559AU',\n",
       " 'Honor MagicBook 14, AMD Ryzen 5 5500U 14-inch (35.56 cm) FHD IPS Anti-Glare Thin and Light Laptop (16GB/512GB PCIe SSD/Windows 11/Fingerprint Login/Metal Body/Backlit KB/1.38Kg), Gray, NobelM-WFQ9AHNE',\n",
       " 'Lenovo Yoga Slim 7 Pro Intel Evo Core i5-11320H 14\"(35.6cm) 2.8K 400nits Thin & Light Laptop(16GB/512GB SSD/Win11/Office 2021/90Hz/Backlit/3Yr Brand Warranty/Slate Grey/Metal Surface/1.3Kg),82NC00EWIN',\n",
       " 'Lenovo IdeaPad Slim 3 Intel Core i3-1115G4 11th Gen 15.6\" (39.62cm) FHD Laptop (8GB/256GB SSD/Win 11/Office 2021/2 Year Warranty/3 Month Game Pass/Platinum Grey/1.7Kg), 81X800LCIN',\n",
       " 'ASUS VivoBook 15 (2021), 15.6-inch (39.62 cm) HD, Dual Core Intel Celeron N4020, Thin and Light Laptop (4GB RAM/256GB SSD/Integrated Graphics/Windows 11 Home/Transparent Silver/1.8 Kg), X515MA-BR011W',\n",
       " '(Renewed) Dell Latitude E5470 Intel Core i5 6th Gen.6200u Processor 14.1 Inches HD Screen Notebook Computer (8 GB Ram & 256 GB SSD, Windows 10 Pro, 1.71Kg)',\n",
       " 'Lenovo V15 Intel Celeron N4020 15.6\" (39.62 cm) HD 220 nits Antiglare Thin and Light Laptop (4GB RAM/256GB SSD/DOS/Iron Grey/1.85 kg), 82C3A008IH',\n",
       " 'HP 15s-Ryzen 3 3250U 8GB SDRAM/256GB SSD 15.6inch(39.6cm) HD, Micro-Edge Laptop/AMD Radeon Graphics/Dual Speakers/Win 11 Home/MS Office/Fast Charge/Jet Black/1.69Kg, 15s-ey1508AU',\n",
       " 'Lenovo IdeaPad Gaming 3 Intel Core i5 11th Gen 15.6\"(39.62cm) FHD IPS Gaming Laptop (8GB/512GB SDD/4GB NVIDIA RTX 3050/120Hz/Win11/Office 2021/Backlit/3months Game Pass/Shadow Black/2.25Kg),82K101EEIN',\n",
       " 'Mi Notebook Pro QHD+ IPS Anti-Glare Display Intel Core I5-11300H 11th Gen 14 Inch Thin & Light Laptop (16GB/512GB SSD/Iris Xe Graphics/Windows 11 Home/MS Office 21/Backlit Keyboard/FP Sensor/1.4 Kg)',\n",
       " 'ASUS Vivobook 14, Intel Core i7-1165G7 11th Gen, 14\" (35.56 cm) FHD, Thin and Laptop (16GB/512GB SSD/Intel Iris Xe Graphics/Windows 11/Office 2021/FP Sensor/Silver/1.55 kg), X415EA-EK701WS',\n",
       " 'HP 15s, 11th Gen Intel Core i5-1155G7, 15.6 inch(39.6cm) FHD Anti-Glare Laptop(8GB RAM/512 GB SSD/Intel Iris Xe Graphics/Win 11/Dual Speakers/Backlit KeyboardAlexa Built-in/MSO 2021) 15s-fr4000TU',\n",
       " 'HP 14s, 11th Gen Intel Core i3-1115G4, 8GB RAM/256GB SSD 14-inch(35.6 cm) Micro-Edge, Anti-Glare, FHD Laptop/Alexa Built-in/Win 11/Intel UHD Graphics/Dual Speakers/ MSO 2021/1.41 Kg, 14s-dy2507TU',\n",
       " '(Renewed) Lenovo Thinkpad L450 5th Gen Intel Core i5 HD Laptop (8 GB RAM/500 GB HDD/14\" (35.6 cm)/Windows 10 Pro/MS Office/WiFi/Bluetooth 4.0/Webcam/Intel HD Graphics)',\n",
       " 'HP 15s, 12th Gen Intel Core i5 8GB RAM/512GB SSD 15.6-inch(39.6 cm) Micro-Edge Anti-Glare FHD Laptop/Intel Iris Xe Graphics/Alexa/Dual Speakers/Win 11/MSO 2021/1.41 Kg, 15s- fq5111TU',\n",
       " 'Lenovo IdeaPad Slim 3 Intel Celeron N4020 4th Gen 15.6\" (39.62cm) HD Thin & Light Laptop (8GB/256GB SSD/Windows 11/Office 2021/2Yr Warranty/3months Game Pass/Platinum Grey/1.7Kg), 81WQ00MQIN',\n",
       " 'Lenovo V15 Intel Celeron N4020 15.6 inches FHD Thin & Light Business Laptop (4GB/256GB SSD/Windows 10 Home/Iron Grey/1.85Kg), 82C30053IH',\n",
       " 'Lenovo IdeaPad D330 Intel Celeron N4020 10.1\" (25cm) HD IPS Detachable 2-in-1 Laptop (4GB/128GB eMMC/Windows 10/1 Yr Warranty/Mineral Grey/1.1Kg), 82H0001YIN',\n",
       " 'MI Notebook Ultra 3.2K Resolution Display Intel Core I5-11300H 11Th Gen 15.6 Inches Thin Light Laptop(16Gb/512Gb Ssd/Iris Xe Graphics/Windows 11 Home/Ms Office 21/Backlit Kb/Fingerprint Sensor/1.7Kg)',\n",
       " 'Lenovo IdeaPad 3 11th Gen Intel Core i3 15.6\" FHD Thin & Light Laptop(8GB/512GB SSD/Windows 11/Office 2021/2Yr Warranty/3months Xbox Game Pass/Platinum Grey/1.7Kg), 81X800LGIN',\n",
       " 'Lenovo IdeaPad Slim 3 Intel Core i5 12th Gen 15.6\" (39.62cm) FHD Thin & Light Laptop (16GB/512GB SSD/Windows 11/Office 2021/Backlit/2Yr Warranty/3months Game Pass/Arctic Grey/1.63Kg), 82RK0085IN']"
      ]
     },
     "execution_count": 7,
     "metadata": {},
     "output_type": "execute_result"
    }
   ],
   "source": [
    "# Title\n",
    "\n",
    "Title = []\n",
    "title1 = driver.find_elements(By.XPATH, '//span[@class=\"a-size-medium a-color-base a-text-normal\"]')\n",
    "\n",
    "for i in title1:\n",
    "    i = i.text\n",
    "    Title.append(i)\n",
    "\n",
    "Title"
   ]
  },
  {
   "cell_type": "code",
   "execution_count": 8,
   "id": "f827da35",
   "metadata": {},
   "outputs": [
    {
     "data": {
      "text/plain": [
       "['3.8',\n",
       " '4.1',\n",
       " '3.8',\n",
       " '3.6',\n",
       " '4.4',\n",
       " '4.2',\n",
       " '3.8',\n",
       " '4.2',\n",
       " '',\n",
       " '',\n",
       " '4.0',\n",
       " '4.0',\n",
       " '3.6',\n",
       " '3.4',\n",
       " '3.5',\n",
       " '3.8',\n",
       " '4.3',\n",
       " '2.8',\n",
       " '4.0',\n",
       " '2.8',\n",
       " '4.2',\n",
       " '3.8',\n",
       " '3.5',\n",
       " '3.9',\n",
       " '4.2',\n",
       " '4.0',\n",
       " '4.1']"
      ]
     },
     "execution_count": 8,
     "metadata": {},
     "output_type": "execute_result"
    }
   ],
   "source": [
    "# Rating\n",
    "\n",
    "Rating = []\n",
    "title2 = driver.find_elements(By.XPATH, '//span[@class=\"a-size-base\"]')\n",
    "\n",
    "for i in title2:\n",
    "    i = i.text\n",
    "    Rating.append(i)\n",
    "\n",
    "Rating"
   ]
  },
  {
   "cell_type": "code",
   "execution_count": 9,
   "id": "ebe24792",
   "metadata": {},
   "outputs": [
    {
     "data": {
      "text/plain": [
       "['18,999',\n",
       " '41,026',\n",
       " '26,999',\n",
       " '29,090',\n",
       " '44,990',\n",
       " '69,390',\n",
       " '1,94,900',\n",
       " '1,34,990',\n",
       " '',\n",
       " '',\n",
       " '32,890',\n",
       " '25,990',\n",
       " '19,000',\n",
       " '19,990',\n",
       " '28,828',\n",
       " '60,990',\n",
       " '57,999',\n",
       " '56,990',\n",
       " '52,900',\n",
       " '36,990',\n",
       " '17,999',\n",
       " '56,899',\n",
       " '26,250',\n",
       " '21,999',\n",
       " '19,990',\n",
       " '62,999',\n",
       " '36,827',\n",
       " '60,927']"
      ]
     },
     "execution_count": 9,
     "metadata": {},
     "output_type": "execute_result"
    }
   ],
   "source": [
    "# price\n",
    "\n",
    "Price = []\n",
    "title3 = driver.find_elements(By.XPATH, '//span[@class=\"a-price-whole\"]')\n",
    "\n",
    "for i in title3:\n",
    "    i = i.text\n",
    "    Price.append(i)\n",
    "\n",
    "Price"
   ]
  },
  {
   "cell_type": "code",
   "execution_count": 16,
   "id": "bb5b03f1",
   "metadata": {},
   "outputs": [],
   "source": [
    "title=pd.Series(Title)\n",
    "Rating=pd.Series(Rating)\n",
    "Price=pd.Series(Price)\n",
    "\n",
    "price1=Price.drop([8,9])\n",
    "Rating1=Rating.drop([8,9])"
   ]
  },
  {
   "cell_type": "code",
   "execution_count": null,
   "id": "a537337f",
   "metadata": {},
   "outputs": [],
   "source": []
  },
  {
   "cell_type": "code",
   "execution_count": null,
   "id": "8dabb3cf",
   "metadata": {},
   "outputs": [],
   "source": []
  },
  {
   "cell_type": "code",
   "execution_count": null,
   "id": "76ad5e33",
   "metadata": {},
   "outputs": [],
   "source": []
  },
  {
   "cell_type": "code",
   "execution_count": null,
   "id": "ca286a61",
   "metadata": {},
   "outputs": [],
   "source": []
  }
 ],
 "metadata": {
  "kernelspec": {
   "display_name": "Python 3 (ipykernel)",
   "language": "python",
   "name": "python3"
  },
  "language_info": {
   "codemirror_mode": {
    "name": "ipython",
    "version": 3
   },
   "file_extension": ".py",
   "mimetype": "text/x-python",
   "name": "python",
   "nbconvert_exporter": "python",
   "pygments_lexer": "ipython3",
   "version": "3.9.13"
  }
 },
 "nbformat": 4,
 "nbformat_minor": 5
}
