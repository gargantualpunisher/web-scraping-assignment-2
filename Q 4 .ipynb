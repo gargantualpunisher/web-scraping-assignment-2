{
 "cells": [
  {
   "cell_type": "code",
   "execution_count": 2,
   "id": "b37be174",
   "metadata": {},
   "outputs": [],
   "source": [
    "import selenium\n",
    "import pandas as pd\n",
    "from selenium import webdriver\n",
    "import warnings\n",
    "warnings.filterwarnings('ignore')\n",
    "from selenium.common.exceptions import StaleElementReferenceException, NoSuchElementException\n",
    "from selenium.webdriver.common.by import By\n",
    "import time\n",
    "from selenium.webdriver.chrome.service import Service"
   ]
  },
  {
   "cell_type": "code",
   "execution_count": 3,
   "id": "e00b9050",
   "metadata": {},
   "outputs": [],
   "source": [
    "driver3 = webdriver.Chrome(r\"C:\\Users\\Dell\\Videos\\chromedriver_win32\\chromedriver.exe\")\n",
    "driver3.get('https://www.flipkart.com/')\n"
   ]
  },
  {
   "cell_type": "code",
   "execution_count": 4,
   "id": "1200dc2e",
   "metadata": {},
   "outputs": [],
   "source": [
    "# click cross\n",
    "\n",
    "cross = driver3.find_element(By.XPATH, '/html/body/div[2]/div/div/button' )\n",
    "cross.click()"
   ]
  },
  {
   "cell_type": "code",
   "execution_count": 5,
   "id": "bee4f3b7",
   "metadata": {},
   "outputs": [],
   "source": [
    "# input \n",
    "\n",
    "search_input = driver3.find_element(By.XPATH, \"/html/body/div[1]/div/div[1]/div[1]/div[2]/div[2]/form/div/div/input\")\n",
    "search_input.send_keys('sunglasses')\n",
    "\n"
   ]
  },
  {
   "cell_type": "code",
   "execution_count": 6,
   "id": "867572d6",
   "metadata": {
    "scrolled": true
   },
   "outputs": [],
   "source": [
    "# serch tab\n",
    "\n",
    "search_tab = driver3.find_element(By.CLASS_NAME, \"L0Z3Pu\")\n",
    "search_tab.click()"
   ]
  },
  {
   "cell_type": "code",
   "execution_count": null,
   "id": "4e7d4d6c",
   "metadata": {},
   "outputs": [],
   "source": []
  },
  {
   "cell_type": "code",
   "execution_count": 7,
   "id": "d707e76a",
   "metadata": {},
   "outputs": [
    {
     "data": {
      "text/plain": [
       "40"
      ]
     },
     "execution_count": 7,
     "metadata": {},
     "output_type": "execute_result"
    }
   ],
   "source": [
    "# BRAND \n",
    "\n",
    "Brand =[]\n",
    "\n",
    "brand = driver3.find_elements(By.CLASS_NAME, \"_2WkVRV\")\n",
    "\n",
    "for i in brand:\n",
    "    i = i.text\n",
    "    Brand.append(i)\n",
    "\n",
    "len(Brand)"
   ]
  },
  {
   "cell_type": "code",
   "execution_count": 8,
   "id": "5b27d14c",
   "metadata": {},
   "outputs": [
    {
     "data": {
      "text/plain": [
       "45"
      ]
     },
     "execution_count": 8,
     "metadata": {},
     "output_type": "execute_result"
    }
   ],
   "source": [
    "# PRICE\n",
    "\n",
    "Price = []\n",
    "\n",
    "price = driver3.find_elements(By.CLASS_NAME, \"_30jeq3\")\n",
    "\n",
    "for i in price:\n",
    "    i = i.text\n",
    "    Price.append(i)\n",
    "    \n",
    "len(Price)"
   ]
  },
  {
   "cell_type": "code",
   "execution_count": null,
   "id": "b479e46f",
   "metadata": {},
   "outputs": [],
   "source": []
  },
  {
   "cell_type": "code",
   "execution_count": 10,
   "id": "738e9f04",
   "metadata": {},
   "outputs": [
    {
     "data": {
      "text/plain": [
       "39"
      ]
     },
     "execution_count": 10,
     "metadata": {},
     "output_type": "execute_result"
    }
   ],
   "source": [
    "Product_Description = []\n",
    "\n",
    "Description = driver3.find_elements(By.XPATH, '//a[@class=\"IRpwTa\"]')\n",
    "\n",
    "for i in Description:\n",
    "    i = i.text\n",
    "    Product_Description.append(i)\n",
    "    \n",
    "len(Product_Description)"
   ]
  },
  {
   "cell_type": "code",
   "execution_count": null,
   "id": "34ada855",
   "metadata": {},
   "outputs": [],
   "source": []
  }
 ],
 "metadata": {
  "kernelspec": {
   "display_name": "Python 3 (ipykernel)",
   "language": "python",
   "name": "python3"
  },
  "language_info": {
   "codemirror_mode": {
    "name": "ipython",
    "version": 3
   },
   "file_extension": ".py",
   "mimetype": "text/x-python",
   "name": "python",
   "nbconvert_exporter": "python",
   "pygments_lexer": "ipython3",
   "version": "3.9.13"
  }
 },
 "nbformat": 4,
 "nbformat_minor": 5
}
