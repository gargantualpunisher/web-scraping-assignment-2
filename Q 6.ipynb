{
 "cells": [
  {
   "cell_type": "code",
   "execution_count": 2,
   "id": "6f254bf2",
   "metadata": {},
   "outputs": [],
   "source": [
    "import selenium\n",
    "import pandas as pd\n",
    "from selenium import webdriver\n",
    "import warnings\n",
    "warnings.filterwarnings('ignore')\n",
    "from selenium.common.exceptions import StaleElementReferenceException, NoSuchElementException\n",
    "from selenium.webdriver.common.by import By\n",
    "import time\n",
    "from selenium.webdriver.chrome.service import Service"
   ]
  },
  {
   "cell_type": "code",
   "execution_count": 3,
   "id": "dbec3e5c",
   "metadata": {},
   "outputs": [],
   "source": [
    "driver4 = webdriver.Chrome(r\"C:\\Users\\Dell\\Videos\\chromedriver_win32\\chromedriver.exe\")\n",
    "driver4.get('https://www.flipkart.com/')"
   ]
  },
  {
   "cell_type": "code",
   "execution_count": 4,
   "id": "f339bbf6",
   "metadata": {},
   "outputs": [],
   "source": [
    "# click\n",
    "\n",
    "click1 = driver4.find_element(By.XPATH, \"//button[@class='_2KpZ6l _2doB4z']\")\n",
    "click1.click()\n",
    "\n"
   ]
  },
  {
   "cell_type": "code",
   "execution_count": 5,
   "id": "d7097bc0",
   "metadata": {},
   "outputs": [],
   "source": [
    "# input\n",
    "\n",
    "input1 = driver4.find_element(By.XPATH, '//input[@class=\"_3704LK\"]')\n",
    "input1.send_keys('sneakers')\n",
    "\n"
   ]
  },
  {
   "cell_type": "code",
   "execution_count": 6,
   "id": "42f3b4c7",
   "metadata": {},
   "outputs": [],
   "source": [
    "# search \n",
    "\n",
    "click2 = driver4.find_element(By.XPATH, '//button[@class=\"L0Z3Pu\"]')\n",
    "click2.click()"
   ]
  },
  {
   "cell_type": "code",
   "execution_count": 17,
   "id": "9f7fa4ea",
   "metadata": {},
   "outputs": [],
   "source": [
    "# Brand\n",
    "\n",
    "Brand = []\n",
    "\n",
    "brand = driver4.find_elements(By.XPATH, '//div[@class=\"_2WkVRV\"]')\n",
    "\n",
    "for i in brand:\n",
    "    i = i.text\n",
    "    Brand.append(i)\n",
    "    \n",
    "# price \n",
    "\n",
    "Price = []\n",
    "\n",
    "price = driver4.find_elements(By.XPATH, '//div[@class= \"_30jeq3\"]')\n",
    "\n",
    "for i in price:\n",
    "    i = i.text\n",
    "    Price.append(i)\n",
    "    \n",
    "\n",
    "    "
   ]
  },
  {
   "cell_type": "code",
   "execution_count": null,
   "id": "c62c3e73",
   "metadata": {},
   "outputs": [],
   "source": [
    "# product description"
   ]
  },
  {
   "cell_type": "code",
   "execution_count": 24,
   "id": "4780056d",
   "metadata": {},
   "outputs": [
    {
     "data": {
      "text/plain": [
       "38"
      ]
     },
     "execution_count": 24,
     "metadata": {},
     "output_type": "execute_result"
    }
   ],
   "source": [
    "Product_Description = []\n",
    "\n",
    "Description = driver4.find_elements(By.XPATH, '//a[@class=\"IRpwTa\"]')\n",
    "\n",
    "for i in Description:\n",
    "    i = i.text\n",
    "    Product_Description.append(i)\n",
    "    \n",
    "len(Product_Description)"
   ]
  },
  {
   "cell_type": "code",
   "execution_count": 16,
   "id": "873e5138",
   "metadata": {},
   "outputs": [
    {
     "data": {
      "text/plain": [
       "40"
      ]
     },
     "execution_count": 16,
     "metadata": {},
     "output_type": "execute_result"
    }
   ],
   "source": [
    "len(Brand)"
   ]
  },
  {
   "cell_type": "code",
   "execution_count": 18,
   "id": "997407bb",
   "metadata": {},
   "outputs": [
    {
     "data": {
      "text/plain": [
       "40"
      ]
     },
     "execution_count": 18,
     "metadata": {},
     "output_type": "execute_result"
    }
   ],
   "source": [
    "len(Price)"
   ]
  },
  {
   "cell_type": "code",
   "execution_count": null,
   "id": "d3646214",
   "metadata": {},
   "outputs": [],
   "source": [
    "# len of data is different due to similar data in web page did not import"
   ]
  }
 ],
 "metadata": {
  "kernelspec": {
   "display_name": "Python 3 (ipykernel)",
   "language": "python",
   "name": "python3"
  },
  "language_info": {
   "codemirror_mode": {
    "name": "ipython",
    "version": 3
   },
   "file_extension": ".py",
   "mimetype": "text/x-python",
   "name": "python",
   "nbconvert_exporter": "python",
   "pygments_lexer": "ipython3",
   "version": "3.9.13"
  }
 },
 "nbformat": 4,
 "nbformat_minor": 5
}
